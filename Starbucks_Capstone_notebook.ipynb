{
 "cells": [
  {
   "cell_type": "markdown",
   "metadata": {},
   "source": [
    "# Starbucks Capstone Challenge\n",
    "\n",
    "### Project Overview\n",
    " * This data set contains simulated data that mimics customer behavior on the Starbucks rewards mobile app. Once every few days, Starbucks sends out an offer to users of the mobile app. An offer can be merely an advertisement for a drink or an actual offer such as a discount or BOGO (buy one get one free). Some users might not receive any offer during certain weeks.\n",
    " \n",
    " * We will follow CRISP-DM (Cross-Industry Standard Process for Data Mining) process\n",
    "     - Business Understanding\n",
    "     - Data Understanding\n",
    "     - Data Preparation\n",
    "     - Modelling\n",
    "     - Evaluation\n",
    "     - Deployment"
   ]
  },
  {
   "cell_type": "markdown",
   "metadata": {},
   "source": [
    "## Business Understanding\n",
    "\n",
    "Starbucks has kindly provided simulated promotional datasets that mimic customer behavior on the rewards mobile app. The promotion runs like the following: once every few days, Starbucks will send out promotions to customers. The promotions could be discount offers, buy-one-get-one-free (bogo) offers, or informational offers. Different customers might react differently to the offers. Some customers will react positively to the promotions (viewed the offer and placed an order), whereas other customer might ignore the promotions (did not place an order after viewing the promotions, or placed an order without noticing the promotions). Since there is a cost associated with the promotion, analysis of the data could be helpful for understanding customer behaviors, making business decision, and implementing strategies to improve the business profits.\n",
    "\n",
    "- In this analysis, we are interested in the following questions:\n",
    "    - Was there a pattern in the release of offers?\n",
    "    - What were the most common offer types by channel?\n",
    "    - What is the best channel to send out promotions?\n",
    "    - Can we build a model to predict the customers' behavior and send out customized promotional offers to individuals?"
   ]
  },
  {
   "cell_type": "markdown",
   "metadata": {},
   "source": [
    "## Data Understanding\n",
    "\n",
    "The data is contained in three files:\n",
    "\n",
    "* portfolio.json - containing offer ids and meta data about each offer (duration, type, etc.)\n",
    "* profile.json - demographic data for each customer\n",
    "* transcript.json - records for transactions, offers received, offers viewed, and offers completed\n",
    "\n",
    "Here is the schema and explanation of each variable in the files:\n",
    "\n",
    "**portfolio.json**\n",
    "* id (string) - offer id\n",
    "* offer_type (string) - type of offer ie BOGO, discount, informational\n",
    "* difficulty (int) - minimum required spend to complete an offer\n",
    "* reward (int) - reward given for completing an offer\n",
    "* duration (int) - time for offer to be open, in days\n",
    "* channels (list of strings)\n",
    "\n",
    "**profile.json**\n",
    "* age (int) - age of the customer \n",
    "* became_member_on (int) - date when customer created an app account\n",
    "* gender (str) - gender of the customer (note some entries contain 'O' for other rather than M or F)\n",
    "* id (str) - customer id\n",
    "* income (float) - customer's income\n",
    "\n",
    "**transcript.json**\n",
    "* event (str) - record description (ie transaction, offer received, offer viewed, etc.)\n",
    "* person (str) - customer id\n",
    "* time (int) - time in hours since start of test. The data begins at time t=0\n",
    "* value - (dict of strings) - either an offer id or transaction amount depending on the record"
   ]
  },
  {
   "cell_type": "code",
   "execution_count": 95,
   "metadata": {
    "execution": {
     "iopub.execute_input": "2023-03-28T01:59:32.577998Z",
     "iopub.status.busy": "2023-03-28T01:59:32.577998Z",
     "iopub.status.idle": "2023-03-28T01:59:34.358999Z",
     "shell.execute_reply": "2023-03-28T01:59:34.358498Z",
     "shell.execute_reply.started": "2023-03-28T01:59:32.577998Z"
    },
    "tags": []
   },
   "outputs": [],
   "source": [
    "# Import relevant modules\n",
    "import datetime\n",
    "import pandas as pd\n",
    "from ydata_profiling import ProfileReport\n",
    "import numpy as np\n",
    "import math\n",
    "import json\n",
    "%matplotlib inline\n",
    "\n",
    "import matplotlib.pyplot as plt\n",
    "import seaborn as sns\n",
    "\n",
    "from sklearn.preprocessing import MultiLabelBinarizer\n",
    "\n",
    "# read in the json files\n",
    "portfolio = pd.read_json('data/portfolio.json', orient='records', lines=True)\n",
    "profile = pd.read_json('data/profile.json', orient='records', lines=True)\n",
    "transcript = pd.read_json('data/transcript.json', orient='records', lines=True)"
   ]
  },
  {
   "cell_type": "markdown",
   "metadata": {},
   "source": [
    "## Data Profiling \n",
    "\n",
    "- We will use pandas profiling to generate exploratory data analysis (EDA) a consistent and fast solution for visualizing the data.\n",
    "- We will export the EDA to an html file."
   ]
  },
  {
   "cell_type": "code",
   "execution_count": 96,
   "metadata": {
    "execution": {
     "iopub.execute_input": "2023-03-28T01:59:37.257503Z",
     "iopub.status.busy": "2023-03-28T01:59:37.257000Z",
     "iopub.status.idle": "2023-03-28T02:00:01.746999Z",
     "shell.execute_reply": "2023-03-28T02:00:01.746498Z",
     "shell.execute_reply.started": "2023-03-28T01:59:37.257503Z"
    },
    "tags": []
   },
   "outputs": [
    {
     "name": "stderr",
     "output_type": "stream",
     "text": [
      "Summarize dataset: 100%|████████████████████████████████████████████████████| 15/15 [00:00<00:00, 51.28it/s, Completed]\n",
      "Generate report structure: 100%|█████████████████████████████████████████████████████████| 1/1 [00:00<00:00,  1.10it/s]\n",
      "Render HTML: 100%|███████████████████████████████████████████████████████████████████████| 1/1 [00:00<00:00,  6.85it/s]\n",
      "Export report to file: 100%|████████████████████████████████████████████████████████████| 1/1 [00:00<00:00, 999.12it/s]\n",
      "Summarize dataset: 100%|████████████████████████████████████████████████████| 24/24 [00:01<00:00, 20.89it/s, Completed]\n",
      "Generate report structure: 100%|█████████████████████████████████████████████████████████| 1/1 [00:00<00:00,  1.10it/s]\n",
      "Render HTML: 100%|███████████████████████████████████████████████████████████████████████| 1/1 [00:00<00:00,  3.74it/s]\n",
      "Export report to file: 100%|████████████████████████████████████████████████████████████| 1/1 [00:00<00:00, 499.74it/s]\n",
      "Summarize dataset: 100%|████████████████████████████████████████████████████| 14/14 [00:19<00:00,  1.41s/it, Completed]\n",
      "Generate report structure: 100%|█████████████████████████████████████████████████████████| 1/1 [00:00<00:00,  1.28it/s]\n",
      "Render HTML: 100%|███████████████████████████████████████████████████████████████████████| 1/1 [00:00<00:00,  8.55it/s]\n",
      "Export report to file: 100%|████████████████████████████████████████████████████████████| 1/1 [00:00<00:00, 998.88it/s]\n"
     ]
    }
   ],
   "source": [
    "# portfolio\n",
    "profile_portfolio = ProfileReport(portfolio, title=\"Profiling Report Portfolio\")\n",
    "profile_portfolio.to_file(\"eda/eda_portfolio.html\")\n",
    "\n",
    "# profile\n",
    "profile_profile = ProfileReport(profile, title=\"Profiling Report profile\")\n",
    "profile_profile.to_file(\"eda/eda_profile.html\")\n",
    "\n",
    "# transcript\n",
    "profile_transcript = ProfileReport(transcript, title=\"Profiling Report transcript\")\n",
    "profile_transcript.to_file(\"eda/eda_transcript.html\")\n"
   ]
  },
  {
   "cell_type": "markdown",
   "metadata": {},
   "source": [
    "## Data Preparation\n",
    "\n",
    "* Transcript Data:\n",
    "    - offer id and transaction_amount columns created from extracting data from value column\n",
    "    - time converted from hours to days to create column days_since_test_start\n",
    "    - person renamed to customer_id\n",
    "    - time renamed to time_hours"
   ]
  },
  {
   "cell_type": "markdown",
   "metadata": {},
   "source": [
    "### User Defined Functions"
   ]
  },
  {
   "cell_type": "code",
   "execution_count": 75,
   "metadata": {
    "execution": {
     "iopub.execute_input": "2023-03-28T01:15:36.555279Z",
     "iopub.status.busy": "2023-03-28T01:15:36.554779Z",
     "iopub.status.idle": "2023-03-28T01:15:36.561281Z",
     "shell.execute_reply": "2023-03-28T01:15:36.560779Z",
     "shell.execute_reply.started": "2023-03-28T01:15:36.555279Z"
    },
    "tags": []
   },
   "outputs": [],
   "source": [
    "def print_line(title='Default Title'):\n",
    "    ''' Function to format titles nicely '''\n",
    "    print(50 * '*' + '\\n\\t\\t' + title + '\\n' + 50 * '*')\n",
    "    \n",
    "    return\n",
    "\n",
    "\n",
    "def get_offer_id(x):\n",
    "    '''Get offer_id from value column either by indexing on 'offer_id' or 'offer id' '''\n",
    "    try :\n",
    "        return x['offer id']\n",
    "    except:\n",
    "        return x['offer_id']\n",
    "    \n",
    "    \n",
    "def plot_conf_mat(y_test, y_pred):\n",
    "    '''Plots a confusion matrix using Seaborn's heatmap()'''\n",
    "    fig, ax = plt.subplots(figsize=(3, 3))\n",
    "    ax = sns.heatmap(confusion_matrix(y_test, y_pred),\n",
    "    annot=True, # Annotate the boxes\n",
    "    fmt='g',\n",
    "    cbar=False)\n",
    "    plt.xlabel(\"true label\")\n",
    "    plt.ylabel(\"predicted label\")\n",
    "    "
   ]
  },
  {
   "cell_type": "code",
   "execution_count": 76,
   "metadata": {
    "execution": {
     "iopub.execute_input": "2023-03-28T01:15:38.113781Z",
     "iopub.status.busy": "2023-03-28T01:15:38.113781Z",
     "iopub.status.idle": "2023-03-28T01:15:38.452281Z",
     "shell.execute_reply": "2023-03-28T01:15:38.451779Z",
     "shell.execute_reply.started": "2023-03-28T01:15:38.113781Z"
    },
    "tags": []
   },
   "outputs": [],
   "source": [
    "# rename person to customer_id\n",
    "transcript.rename(columns={'person':'customer_id', 'time':'time_hours'}, inplace=True)\n",
    "\n",
    "# check if there are any customer IDs which do not appear in profile df, drop if they exist\n",
    "transcript['customer_id_in_profile'] = transcript['customer_id'].isin(profile['id']).astype(int)\n",
    "transcript = transcript[transcript.customer_id_in_profile == 1]\n",
    "\n",
    "# convert time from hours to days for exploratory analysis purposes\n",
    "transcript['days_since_test_start'] = (transcript['time_hours']/24).astype(int)\n",
    "\n",
    "# extract offer id or transaction amount from value column\n",
    "transcript['offer_id'] = transcript[transcript.event.isin(['offer received', 'offer viewed', 'offer completed'])]\\\n",
    "    .value.apply(lambda x: get_offer_id(x))\n",
    "transcript['transaction_amount'] =  transcript[transcript.event.isin(['transaction'])].value.apply(lambda x: x['amount'])\n",
    "\n",
    "# drop unused columns\n",
    "transcript.drop(['customer_id_in_profile', 'value'], axis=1, inplace=True)"
   ]
  },
  {
   "cell_type": "markdown",
   "metadata": {},
   "source": [
    "### Was there a pattern in the release of offers?"
   ]
  },
  {
   "cell_type": "code",
   "execution_count": 77,
   "metadata": {
    "execution": {
     "iopub.execute_input": "2023-03-28T01:15:40.111280Z",
     "iopub.status.busy": "2023-03-28T01:15:40.110781Z",
     "iopub.status.idle": "2023-03-28T01:15:40.327782Z",
     "shell.execute_reply": "2023-03-28T01:15:40.327279Z",
     "shell.execute_reply.started": "2023-03-28T01:15:40.110781Z"
    },
    "tags": []
   },
   "outputs": [
    {
     "data": {
      "image/png": "[encoded data removed]",
      "text/plain": [
       "<Figure size 1500x800 with 1 Axes>"
      ]
     },
     "metadata": {},
     "output_type": "display_data"
    }
   ],
   "source": [
    "fig, ax = plt.subplots(figsize=(15,8))\n",
    "\n",
    "transcript.days_since_test_start.value_counts().sort_index().plot(kind='bar', ax=ax, color=[\"#70e000\"])\n",
    "ax.set_xticklabels(ax.get_xticklabels(), rotation=0)\n",
    "ax.set_title('Distribution of Days Since Test Start')\n",
    "ax.set_ylabel('Count of Events')\n",
    "ax.set_xlabel('Days Since Test Start');"
   ]
  },
  {
   "cell_type": "markdown",
   "metadata": {},
   "source": [
    "When we look at the distribution of time (converted to days) since test start, we can see clear spikes on days 0,7,14,21, etc. which suggests that the tests perhaps commence weekly or that there is clear scheduling behind receiving offers and completing offers."
   ]
  },
  {
   "cell_type": "markdown",
   "metadata": {},
   "source": [
    "***"
   ]
  },
  {
   "cell_type": "markdown",
   "metadata": {},
   "source": [
    "### What were the most common offer types by channel?"
   ]
  },
  {
   "cell_type": "code",
   "execution_count": 78,
   "metadata": {
    "execution": {
     "iopub.execute_input": "2023-03-28T01:15:43.188279Z",
     "iopub.status.busy": "2023-03-28T01:15:43.188279Z",
     "iopub.status.idle": "2023-03-28T01:15:43.194781Z",
     "shell.execute_reply": "2023-03-28T01:15:43.194781Z",
     "shell.execute_reply.started": "2023-03-28T01:15:43.188279Z"
    },
    "tags": []
   },
   "outputs": [],
   "source": [
    "# one hot encode offers, save to separate df and concat with portfolio df\n",
    "offer_type_dummies = pd.get_dummies(portfolio['offer_type'], prefix = 'offer')\n",
    "portfolio = pd.concat([portfolio,offer_type_dummies], axis = 1)\n",
    "\n",
    "mlb = MultiLabelBinarizer()\n",
    "\n",
    "# one hot encode channels, save to separate df and concat with portfolio df\n",
    "ohe_channels = mlb.fit_transform(portfolio['channels'])\n",
    "df_channels = pd.DataFrame(data=ohe_channels, columns=mlb.classes_)\n",
    "portfolio = pd.concat([portfolio,df_channels], axis=1)\n",
    "# drop original columns\n",
    "# portfolio.drop(['channels'], axis=1, inplace=True)\n",
    "\n",
    "# add prefix to ohe columns\n",
    "portfolio.rename(columns = {'email':'channel_email', 'mobile':'channel_mobile', \\\n",
    "                            'social':'channel_social', 'web':'channel_web'}, inplace=True)"
   ]
  },
  {
   "cell_type": "code",
   "execution_count": 79,
   "metadata": {
    "execution": {
     "iopub.execute_input": "2023-03-28T01:15:44.738780Z",
     "iopub.status.busy": "2023-03-28T01:15:44.738281Z",
     "iopub.status.idle": "2023-03-28T01:15:44.915779Z",
     "shell.execute_reply": "2023-03-28T01:15:44.915280Z",
     "shell.execute_reply.started": "2023-03-28T01:15:44.738780Z"
    },
    "tags": []
   },
   "outputs": [
    {
     "data": {
      "image/png": "[encoded data removed]",
      "text/plain": [
       "<Figure size 1500x800 with 1 Axes>"
      ]
     },
     "metadata": {},
     "output_type": "display_data"
    }
   ],
   "source": [
    "fig, ax = plt.subplots(figsize=(15,8))\n",
    "\n",
    "portfolio.groupby('offer_type').sum()[['channel_web', 'channel_email', 'channel_mobile', 'channel_social']]\\\n",
    ".plot(kind='bar', ax=ax, color=[\"#219ebc\",\"#fb8500\",\"#70e000\",\"#f72585\"])\n",
    "ax.set_xticklabels(ax.get_xticklabels(), rotation=0)\n",
    "ax.set_title('Offer Types by Channels')\n",
    "ax.set_ylabel('Count of Events')\n",
    "ax.set_xlabel('Type of Offer');"
   ]
  },
  {
   "cell_type": "markdown",
   "metadata": {},
   "source": [
    "- The most popular channels for bogo offers were email and mobile.\n",
    "- The most popular channels for discount offers were email and web.\n",
    "- The most popular channels for informational offers were email and mobile."
   ]
  },
  {
   "cell_type": "markdown",
   "metadata": {},
   "source": [
    "### What is the best channel to send out promotions?"
   ]
  },
  {
   "cell_type": "code",
   "execution_count": 80,
   "metadata": {
    "execution": {
     "iopub.execute_input": "2023-03-28T01:15:47.489282Z",
     "iopub.status.busy": "2023-03-28T01:15:47.488780Z",
     "iopub.status.idle": "2023-03-28T01:15:47.503779Z",
     "shell.execute_reply": "2023-03-28T01:15:47.503280Z",
     "shell.execute_reply.started": "2023-03-28T01:15:47.489282Z"
    },
    "tags": []
   },
   "outputs": [],
   "source": [
    "def clean_portfolio(portfolio):\n",
    "    \"\"\"\n",
    "    Cleaning portfolio dataframe: one hot encoding of the channels and offer_type. \n",
    "    drop original channels columns. Keep original offer_type column\n",
    "    \n",
    "    Input: raw portfolio dataframe\n",
    "    Output: cleaned portfolio dataframe\n",
    "    \"\"\"\n",
    "    cleaned_data = portfolio.copy()\n",
    "\n",
    "    # one hot encoding for channel column\n",
    "    for channel in ['web', 'email', 'mobile', 'social']:\n",
    "        cleaned_data[channel] = cleaned_data['channels'].apply(lambda x: 1 if channel in x else 0)\n",
    "\n",
    "    # one hot encoding for offer_type column\n",
    "    offer_type = pd.get_dummies(cleaned_data['offer_type'])\n",
    "    cleaned_data = pd.concat([cleaned_data, offer_type], axis=1)\n",
    "    # Keep original offer_type for exploratory analysis, only drop channels\n",
    "    cleaned_data.drop(['channels'], axis=1, inplace=True)\n",
    "\n",
    "    return cleaned_data"
   ]
  },
  {
   "cell_type": "code",
   "execution_count": 81,
   "metadata": {
    "execution": {
     "iopub.execute_input": "2023-03-28T01:15:48.015780Z",
     "iopub.status.busy": "2023-03-28T01:15:48.015780Z",
     "iopub.status.idle": "2023-03-28T01:15:48.030280Z",
     "shell.execute_reply": "2023-03-28T01:15:48.030280Z",
     "shell.execute_reply.started": "2023-03-28T01:15:48.015780Z"
    },
    "tags": []
   },
   "outputs": [
    {
     "data": {
      "text/html": [
       "<div>\n",
       "<style scoped>\n",
       "    .dataframe tbody tr th:only-of-type {\n",
       "        vertical-align: middle;\n",
       "    }\n",
       "\n",
       "    .dataframe tbody tr th {\n",
       "        vertical-align: top;\n",
       "    }\n",
       "\n",
       "    .dataframe thead th {\n",
       "        text-align: right;\n",
       "    }\n",
       "</style>\n",
       "<table border=\"1\" class=\"dataframe\">\n",
       "  <thead>\n",
       "    <tr style=\"text-align: right;\">\n",
       "      <th></th>\n",
       "      <th>reward</th>\n",
       "      <th>difficulty</th>\n",
       "      <th>duration</th>\n",
       "      <th>offer_type</th>\n",
       "      <th>id</th>\n",
       "      <th>offer_bogo</th>\n",
       "      <th>offer_discount</th>\n",
       "      <th>offer_informational</th>\n",
       "      <th>channel_email</th>\n",
       "      <th>channel_mobile</th>\n",
       "      <th>channel_social</th>\n",
       "      <th>channel_web</th>\n",
       "      <th>web</th>\n",
       "      <th>email</th>\n",
       "      <th>mobile</th>\n",
       "      <th>social</th>\n",
       "      <th>bogo</th>\n",
       "      <th>discount</th>\n",
       "      <th>informational</th>\n",
       "    </tr>\n",
       "  </thead>\n",
       "  <tbody>\n",
       "    <tr>\n",
       "      <th>0</th>\n",
       "      <td>10</td>\n",
       "      <td>10</td>\n",
       "      <td>7</td>\n",
       "      <td>bogo</td>\n",
       "      <td>ae264e3637204a6fb9bb56bc8210ddfd</td>\n",
       "      <td>1</td>\n",
       "      <td>0</td>\n",
       "      <td>0</td>\n",
       "      <td>1</td>\n",
       "      <td>1</td>\n",
       "      <td>1</td>\n",
       "      <td>0</td>\n",
       "      <td>0</td>\n",
       "      <td>1</td>\n",
       "      <td>1</td>\n",
       "      <td>1</td>\n",
       "      <td>1</td>\n",
       "      <td>0</td>\n",
       "      <td>0</td>\n",
       "    </tr>\n",
       "    <tr>\n",
       "      <th>1</th>\n",
       "      <td>10</td>\n",
       "      <td>10</td>\n",
       "      <td>5</td>\n",
       "      <td>bogo</td>\n",
       "      <td>4d5c57ea9a6940dd891ad53e9dbe8da0</td>\n",
       "      <td>1</td>\n",
       "      <td>0</td>\n",
       "      <td>0</td>\n",
       "      <td>1</td>\n",
       "      <td>1</td>\n",
       "      <td>1</td>\n",
       "      <td>1</td>\n",
       "      <td>1</td>\n",
       "      <td>1</td>\n",
       "      <td>1</td>\n",
       "      <td>1</td>\n",
       "      <td>1</td>\n",
       "      <td>0</td>\n",
       "      <td>0</td>\n",
       "    </tr>\n",
       "    <tr>\n",
       "      <th>2</th>\n",
       "      <td>0</td>\n",
       "      <td>0</td>\n",
       "      <td>4</td>\n",
       "      <td>informational</td>\n",
       "      <td>3f207df678b143eea3cee63160fa8bed</td>\n",
       "      <td>0</td>\n",
       "      <td>0</td>\n",
       "      <td>1</td>\n",
       "      <td>1</td>\n",
       "      <td>1</td>\n",
       "      <td>0</td>\n",
       "      <td>1</td>\n",
       "      <td>1</td>\n",
       "      <td>1</td>\n",
       "      <td>1</td>\n",
       "      <td>0</td>\n",
       "      <td>0</td>\n",
       "      <td>0</td>\n",
       "      <td>1</td>\n",
       "    </tr>\n",
       "    <tr>\n",
       "      <th>3</th>\n",
       "      <td>5</td>\n",
       "      <td>5</td>\n",
       "      <td>7</td>\n",
       "      <td>bogo</td>\n",
       "      <td>9b98b8c7a33c4b65b9aebfe6a799e6d9</td>\n",
       "      <td>1</td>\n",
       "      <td>0</td>\n",
       "      <td>0</td>\n",
       "      <td>1</td>\n",
       "      <td>1</td>\n",
       "      <td>0</td>\n",
       "      <td>1</td>\n",
       "      <td>1</td>\n",
       "      <td>1</td>\n",
       "      <td>1</td>\n",
       "      <td>0</td>\n",
       "      <td>1</td>\n",
       "      <td>0</td>\n",
       "      <td>0</td>\n",
       "    </tr>\n",
       "    <tr>\n",
       "      <th>4</th>\n",
       "      <td>5</td>\n",
       "      <td>20</td>\n",
       "      <td>10</td>\n",
       "      <td>discount</td>\n",
       "      <td>0b1e1539f2cc45b7b9fa7c272da2e1d7</td>\n",
       "      <td>0</td>\n",
       "      <td>1</td>\n",
       "      <td>0</td>\n",
       "      <td>1</td>\n",
       "      <td>0</td>\n",
       "      <td>0</td>\n",
       "      <td>1</td>\n",
       "      <td>1</td>\n",
       "      <td>1</td>\n",
       "      <td>0</td>\n",
       "      <td>0</td>\n",
       "      <td>0</td>\n",
       "      <td>1</td>\n",
       "      <td>0</td>\n",
       "    </tr>\n",
       "    <tr>\n",
       "      <th>5</th>\n",
       "      <td>3</td>\n",
       "      <td>7</td>\n",
       "      <td>7</td>\n",
       "      <td>discount</td>\n",
       "      <td>2298d6c36e964ae4a3e7e9706d1fb8c2</td>\n",
       "      <td>0</td>\n",
       "      <td>1</td>\n",
       "      <td>0</td>\n",
       "      <td>1</td>\n",
       "      <td>1</td>\n",
       "      <td>1</td>\n",
       "      <td>1</td>\n",
       "      <td>1</td>\n",
       "      <td>1</td>\n",
       "      <td>1</td>\n",
       "      <td>1</td>\n",
       "      <td>0</td>\n",
       "      <td>1</td>\n",
       "      <td>0</td>\n",
       "    </tr>\n",
       "    <tr>\n",
       "      <th>6</th>\n",
       "      <td>2</td>\n",
       "      <td>10</td>\n",
       "      <td>10</td>\n",
       "      <td>discount</td>\n",
       "      <td>fafdcd668e3743c1bb461111dcafc2a4</td>\n",
       "      <td>0</td>\n",
       "      <td>1</td>\n",
       "      <td>0</td>\n",
       "      <td>1</td>\n",
       "      <td>1</td>\n",
       "      <td>1</td>\n",
       "      <td>1</td>\n",
       "      <td>1</td>\n",
       "      <td>1</td>\n",
       "      <td>1</td>\n",
       "      <td>1</td>\n",
       "      <td>0</td>\n",
       "      <td>1</td>\n",
       "      <td>0</td>\n",
       "    </tr>\n",
       "    <tr>\n",
       "      <th>7</th>\n",
       "      <td>0</td>\n",
       "      <td>0</td>\n",
       "      <td>3</td>\n",
       "      <td>informational</td>\n",
       "      <td>5a8bc65990b245e5a138643cd4eb9837</td>\n",
       "      <td>0</td>\n",
       "      <td>0</td>\n",
       "      <td>1</td>\n",
       "      <td>1</td>\n",
       "      <td>1</td>\n",
       "      <td>1</td>\n",
       "      <td>0</td>\n",
       "      <td>0</td>\n",
       "      <td>1</td>\n",
       "      <td>1</td>\n",
       "      <td>1</td>\n",
       "      <td>0</td>\n",
       "      <td>0</td>\n",
       "      <td>1</td>\n",
       "    </tr>\n",
       "    <tr>\n",
       "      <th>8</th>\n",
       "      <td>5</td>\n",
       "      <td>5</td>\n",
       "      <td>5</td>\n",
       "      <td>bogo</td>\n",
       "      <td>f19421c1d4aa40978ebb69ca19b0e20d</td>\n",
       "      <td>1</td>\n",
       "      <td>0</td>\n",
       "      <td>0</td>\n",
       "      <td>1</td>\n",
       "      <td>1</td>\n",
       "      <td>1</td>\n",
       "      <td>1</td>\n",
       "      <td>1</td>\n",
       "      <td>1</td>\n",
       "      <td>1</td>\n",
       "      <td>1</td>\n",
       "      <td>1</td>\n",
       "      <td>0</td>\n",
       "      <td>0</td>\n",
       "    </tr>\n",
       "    <tr>\n",
       "      <th>9</th>\n",
       "      <td>2</td>\n",
       "      <td>10</td>\n",
       "      <td>7</td>\n",
       "      <td>discount</td>\n",
       "      <td>2906b810c7d4411798c6938adc9daaa5</td>\n",
       "      <td>0</td>\n",
       "      <td>1</td>\n",
       "      <td>0</td>\n",
       "      <td>1</td>\n",
       "      <td>1</td>\n",
       "      <td>0</td>\n",
       "      <td>1</td>\n",
       "      <td>1</td>\n",
       "      <td>1</td>\n",
       "      <td>1</td>\n",
       "      <td>0</td>\n",
       "      <td>0</td>\n",
       "      <td>1</td>\n",
       "      <td>0</td>\n",
       "    </tr>\n",
       "  </tbody>\n",
       "</table>\n",
       "</div>"
      ],
      "text/plain": [
       "   reward  difficulty  duration     offer_type  \\\n",
       "0      10          10         7           bogo   \n",
       "1      10          10         5           bogo   \n",
       "2       0           0         4  informational   \n",
       "3       5           5         7           bogo   \n",
       "4       5          20        10       discount   \n",
       "5       3           7         7       discount   \n",
       "6       2          10        10       discount   \n",
       "7       0           0         3  informational   \n",
       "8       5           5         5           bogo   \n",
       "9       2          10         7       discount   \n",
       "\n",
       "                                 id  offer_bogo  offer_discount  \\\n",
       "0  ae264e3637204a6fb9bb56bc8210ddfd           1               0   \n",
       "1  4d5c57ea9a6940dd891ad53e9dbe8da0           1               0   \n",
       "2  3f207df678b143eea3cee63160fa8bed           0               0   \n",
       "3  9b98b8c7a33c4b65b9aebfe6a799e6d9           1               0   \n",
       "4  0b1e1539f2cc45b7b9fa7c272da2e1d7           0               1   \n",
       "5  2298d6c36e964ae4a3e7e9706d1fb8c2           0               1   \n",
       "6  fafdcd668e3743c1bb461111dcafc2a4           0               1   \n",
       "7  5a8bc65990b245e5a138643cd4eb9837           0               0   \n",
       "8  f19421c1d4aa40978ebb69ca19b0e20d           1               0   \n",
       "9  2906b810c7d4411798c6938adc9daaa5           0               1   \n",
       "\n",
       "   offer_informational  channel_email  channel_mobile  channel_social  \\\n",
       "0                    0              1               1               1   \n",
       "1                    0              1               1               1   \n",
       "2                    1              1               1               0   \n",
       "3                    0              1               1               0   \n",
       "4                    0              1               0               0   \n",
       "5                    0              1               1               1   \n",
       "6                    0              1               1               1   \n",
       "7                    1              1               1               1   \n",
       "8                    0              1               1               1   \n",
       "9                    0              1               1               0   \n",
       "\n",
       "   channel_web  web  email  mobile  social  bogo  discount  informational  \n",
       "0            0    0      1       1       1     1         0              0  \n",
       "1            1    1      1       1       1     1         0              0  \n",
       "2            1    1      1       1       0     0         0              1  \n",
       "3            1    1      1       1       0     1         0              0  \n",
       "4            1    1      1       0       0     0         1              0  \n",
       "5            1    1      1       1       1     0         1              0  \n",
       "6            1    1      1       1       1     0         1              0  \n",
       "7            0    0      1       1       1     0         0              1  \n",
       "8            1    1      1       1       1     1         0              0  \n",
       "9            1    1      1       1       0     0         1              0  "
      ]
     },
     "execution_count": 81,
     "metadata": {},
     "output_type": "execute_result"
    }
   ],
   "source": [
    "# Quickly examine the cleaned portfolio dataset\n",
    "cleaned_portfolio = clean_portfolio(portfolio)\n",
    "cleaned_portfolio"
   ]
  },
  {
   "cell_type": "code",
   "execution_count": 82,
   "metadata": {
    "execution": {
     "iopub.execute_input": "2023-03-28T01:15:50.013779Z",
     "iopub.status.busy": "2023-03-28T01:15:50.013280Z",
     "iopub.status.idle": "2023-03-28T01:15:50.029779Z",
     "shell.execute_reply": "2023-03-28T01:15:50.029280Z",
     "shell.execute_reply.started": "2023-03-28T01:15:50.013779Z"
    },
    "tags": []
   },
   "outputs": [],
   "source": [
    "def clean_transcript(transcript):\n",
    "    \"\"\"\n",
    "    Clean transcript data: unpack value column, one hot encoding transaction event\n",
    "    Input: raw transcript data\n",
    "    Output: break values column to multiple columns, \n",
    "    \"\"\"\n",
    "    transcript_df = transcript.copy()\n",
    "    \n",
    "    # note: from_records need sequence index from 0\n",
    "    transcript_df = transcript_df.join(pd.DataFrame.from_records(transcript_df.pop('value')))\n",
    "    transcript_df.offer_id.update(transcript_df.pop('offer id')) # update non NaN values only\n",
    "    \n",
    "    # one hot encoding for event column\n",
    "    event_df = pd.get_dummies(transcript_df['event'])\n",
    "    transcript_df = pd.concat([transcript_df, event_df], axis=1)\n",
    "   \n",
    "    return transcript_df"
   ]
  },
  {
   "cell_type": "code",
   "execution_count": 84,
   "metadata": {
    "execution": {
     "iopub.execute_input": "2023-03-28T01:16:04.431780Z",
     "iopub.status.busy": "2023-03-28T01:16:04.431281Z",
     "iopub.status.idle": "2023-03-28T01:16:06.505780Z",
     "shell.execute_reply": "2023-03-28T01:16:06.505279Z",
     "shell.execute_reply.started": "2023-03-28T01:16:04.431780Z"
    },
    "tags": []
   },
   "outputs": [
    {
     "data": {
      "text/html": [
       "<div>\n",
       "<style scoped>\n",
       "    .dataframe tbody tr th:only-of-type {\n",
       "        vertical-align: middle;\n",
       "    }\n",
       "\n",
       "    .dataframe tbody tr th {\n",
       "        vertical-align: top;\n",
       "    }\n",
       "\n",
       "    .dataframe thead th {\n",
       "        text-align: right;\n",
       "    }\n",
       "</style>\n",
       "<table border=\"1\" class=\"dataframe\">\n",
       "  <thead>\n",
       "    <tr style=\"text-align: right;\">\n",
       "      <th></th>\n",
       "      <th>person</th>\n",
       "      <th>event</th>\n",
       "      <th>time</th>\n",
       "      <th>amount</th>\n",
       "      <th>offer_id</th>\n",
       "      <th>reward</th>\n",
       "      <th>offer completed</th>\n",
       "      <th>offer received</th>\n",
       "      <th>offer viewed</th>\n",
       "      <th>transaction</th>\n",
       "    </tr>\n",
       "  </thead>\n",
       "  <tbody>\n",
       "    <tr>\n",
       "      <th>0</th>\n",
       "      <td>78afa995795e4d85b5d9ceeca43f5fef</td>\n",
       "      <td>offer received</td>\n",
       "      <td>0</td>\n",
       "      <td>NaN</td>\n",
       "      <td>9b98b8c7a33c4b65b9aebfe6a799e6d9</td>\n",
       "      <td>NaN</td>\n",
       "      <td>0</td>\n",
       "      <td>1</td>\n",
       "      <td>0</td>\n",
       "      <td>0</td>\n",
       "    </tr>\n",
       "    <tr>\n",
       "      <th>1</th>\n",
       "      <td>a03223e636434f42ac4c3df47e8bac43</td>\n",
       "      <td>offer received</td>\n",
       "      <td>0</td>\n",
       "      <td>NaN</td>\n",
       "      <td>0b1e1539f2cc45b7b9fa7c272da2e1d7</td>\n",
       "      <td>NaN</td>\n",
       "      <td>0</td>\n",
       "      <td>1</td>\n",
       "      <td>0</td>\n",
       "      <td>0</td>\n",
       "    </tr>\n",
       "    <tr>\n",
       "      <th>2</th>\n",
       "      <td>e2127556f4f64592b11af22de27a7932</td>\n",
       "      <td>offer received</td>\n",
       "      <td>0</td>\n",
       "      <td>NaN</td>\n",
       "      <td>2906b810c7d4411798c6938adc9daaa5</td>\n",
       "      <td>NaN</td>\n",
       "      <td>0</td>\n",
       "      <td>1</td>\n",
       "      <td>0</td>\n",
       "      <td>0</td>\n",
       "    </tr>\n",
       "    <tr>\n",
       "      <th>3</th>\n",
       "      <td>8ec6ce2a7e7949b1bf142def7d0e0586</td>\n",
       "      <td>offer received</td>\n",
       "      <td>0</td>\n",
       "      <td>NaN</td>\n",
       "      <td>fafdcd668e3743c1bb461111dcafc2a4</td>\n",
       "      <td>NaN</td>\n",
       "      <td>0</td>\n",
       "      <td>1</td>\n",
       "      <td>0</td>\n",
       "      <td>0</td>\n",
       "    </tr>\n",
       "    <tr>\n",
       "      <th>4</th>\n",
       "      <td>68617ca6246f4fbc85e91a2a49552598</td>\n",
       "      <td>offer received</td>\n",
       "      <td>0</td>\n",
       "      <td>NaN</td>\n",
       "      <td>4d5c57ea9a6940dd891ad53e9dbe8da0</td>\n",
       "      <td>NaN</td>\n",
       "      <td>0</td>\n",
       "      <td>1</td>\n",
       "      <td>0</td>\n",
       "      <td>0</td>\n",
       "    </tr>\n",
       "  </tbody>\n",
       "</table>\n",
       "</div>"
      ],
      "text/plain": [
       "                             person           event  time  amount  \\\n",
       "0  78afa995795e4d85b5d9ceeca43f5fef  offer received     0     NaN   \n",
       "1  a03223e636434f42ac4c3df47e8bac43  offer received     0     NaN   \n",
       "2  e2127556f4f64592b11af22de27a7932  offer received     0     NaN   \n",
       "3  8ec6ce2a7e7949b1bf142def7d0e0586  offer received     0     NaN   \n",
       "4  68617ca6246f4fbc85e91a2a49552598  offer received     0     NaN   \n",
       "\n",
       "                           offer_id  reward  offer completed  offer received  \\\n",
       "0  9b98b8c7a33c4b65b9aebfe6a799e6d9     NaN                0               1   \n",
       "1  0b1e1539f2cc45b7b9fa7c272da2e1d7     NaN                0               1   \n",
       "2  2906b810c7d4411798c6938adc9daaa5     NaN                0               1   \n",
       "3  fafdcd668e3743c1bb461111dcafc2a4     NaN                0               1   \n",
       "4  4d5c57ea9a6940dd891ad53e9dbe8da0     NaN                0               1   \n",
       "\n",
       "   offer viewed  transaction  \n",
       "0             0            0  \n",
       "1             0            0  \n",
       "2             0            0  \n",
       "3             0            0  \n",
       "4             0            0  "
      ]
     },
     "execution_count": 84,
     "metadata": {},
     "output_type": "execute_result"
    }
   ],
   "source": [
    "transcript = pd.read_json('data/transcript.json', orient='records', lines=True)\n",
    "\n",
    "cleaned_transcript = clean_transcript(transcript)\n",
    "cleaned_transcript.head()"
   ]
  },
  {
   "cell_type": "code",
   "execution_count": 85,
   "metadata": {
    "execution": {
     "iopub.execute_input": "2023-03-28T01:16:07.004280Z",
     "iopub.status.busy": "2023-03-28T01:16:07.004280Z",
     "iopub.status.idle": "2023-03-28T01:16:07.017280Z",
     "shell.execute_reply": "2023-03-28T01:16:07.016779Z",
     "shell.execute_reply.started": "2023-03-28T01:16:07.004280Z"
    },
    "tags": []
   },
   "outputs": [],
   "source": [
    "def clean_profile(profile):\n",
    "    \"\"\"\n",
    "    Cleaning profile dataframe:\n",
    "        remove customer who do not have gender or income data; one-hot encoding gender; feature engineering member date\n",
    "    Input: profile dataframe to be cleaned\n",
    "    Output: cleaned profile dataframe\n",
    "    \"\"\"\n",
    "    cleaned_data = profile.copy()\n",
    "    cleaned_data.loc[cleaned_data.age == 118, 'age'] = np.nan\n",
    "    cleaned_data.dropna(inplace=True)\n",
    "    cleaned_data['memberdays'] = datetime.datetime.today().date() - pd.to_datetime(cleaned_data['became_member_on'], \n",
    "                                                                              format='%Y%m%d').dt.date\n",
    "    cleaned_data['memberdays'] = cleaned_data['memberdays'].dt.days\n",
    "    cleaned_data['year_join'] = pd.to_datetime(cleaned_data['became_member_on'], format='%Y%m%d').dt.year\n",
    "    # one hot encoding for event column\n",
    "    gender_df = pd.get_dummies(cleaned_data['gender'])\n",
    "    cleaned_data = pd.concat([cleaned_data, gender_df], axis=1)\n",
    "    return cleaned_data"
   ]
  },
  {
   "cell_type": "code",
   "execution_count": 86,
   "metadata": {
    "execution": {
     "iopub.execute_input": "2023-03-28T01:16:07.445279Z",
     "iopub.status.busy": "2023-03-28T01:16:07.444779Z",
     "iopub.status.idle": "2023-03-28T01:16:07.513280Z",
     "shell.execute_reply": "2023-03-28T01:16:07.512780Z",
     "shell.execute_reply.started": "2023-03-28T01:16:07.445279Z"
    },
    "tags": []
   },
   "outputs": [
    {
     "data": {
      "text/html": [
       "<div>\n",
       "<style scoped>\n",
       "    .dataframe tbody tr th:only-of-type {\n",
       "        vertical-align: middle;\n",
       "    }\n",
       "\n",
       "    .dataframe tbody tr th {\n",
       "        vertical-align: top;\n",
       "    }\n",
       "\n",
       "    .dataframe thead th {\n",
       "        text-align: right;\n",
       "    }\n",
       "</style>\n",
       "<table border=\"1\" class=\"dataframe\">\n",
       "  <thead>\n",
       "    <tr style=\"text-align: right;\">\n",
       "      <th></th>\n",
       "      <th>gender</th>\n",
       "      <th>age</th>\n",
       "      <th>id</th>\n",
       "      <th>became_member_on</th>\n",
       "      <th>income</th>\n",
       "      <th>memberdays</th>\n",
       "      <th>year_join</th>\n",
       "      <th>F</th>\n",
       "      <th>M</th>\n",
       "      <th>O</th>\n",
       "    </tr>\n",
       "  </thead>\n",
       "  <tbody>\n",
       "    <tr>\n",
       "      <th>1</th>\n",
       "      <td>F</td>\n",
       "      <td>55.0</td>\n",
       "      <td>0610b486422d4921ae7d2bf64640c50b</td>\n",
       "      <td>20170715</td>\n",
       "      <td>112000.0</td>\n",
       "      <td>2081</td>\n",
       "      <td>2017</td>\n",
       "      <td>1</td>\n",
       "      <td>0</td>\n",
       "      <td>0</td>\n",
       "    </tr>\n",
       "    <tr>\n",
       "      <th>3</th>\n",
       "      <td>F</td>\n",
       "      <td>75.0</td>\n",
       "      <td>78afa995795e4d85b5d9ceeca43f5fef</td>\n",
       "      <td>20170509</td>\n",
       "      <td>100000.0</td>\n",
       "      <td>2148</td>\n",
       "      <td>2017</td>\n",
       "      <td>1</td>\n",
       "      <td>0</td>\n",
       "      <td>0</td>\n",
       "    </tr>\n",
       "    <tr>\n",
       "      <th>5</th>\n",
       "      <td>M</td>\n",
       "      <td>68.0</td>\n",
       "      <td>e2127556f4f64592b11af22de27a7932</td>\n",
       "      <td>20180426</td>\n",
       "      <td>70000.0</td>\n",
       "      <td>1796</td>\n",
       "      <td>2018</td>\n",
       "      <td>0</td>\n",
       "      <td>1</td>\n",
       "      <td>0</td>\n",
       "    </tr>\n",
       "    <tr>\n",
       "      <th>8</th>\n",
       "      <td>M</td>\n",
       "      <td>65.0</td>\n",
       "      <td>389bc3fa690240e798340f5a15918d5c</td>\n",
       "      <td>20180209</td>\n",
       "      <td>53000.0</td>\n",
       "      <td>1872</td>\n",
       "      <td>2018</td>\n",
       "      <td>0</td>\n",
       "      <td>1</td>\n",
       "      <td>0</td>\n",
       "    </tr>\n",
       "    <tr>\n",
       "      <th>12</th>\n",
       "      <td>M</td>\n",
       "      <td>58.0</td>\n",
       "      <td>2eeac8d8feae4a8cad5a6af0499a211d</td>\n",
       "      <td>20171111</td>\n",
       "      <td>51000.0</td>\n",
       "      <td>1962</td>\n",
       "      <td>2017</td>\n",
       "      <td>0</td>\n",
       "      <td>1</td>\n",
       "      <td>0</td>\n",
       "    </tr>\n",
       "  </tbody>\n",
       "</table>\n",
       "</div>"
      ],
      "text/plain": [
       "   gender   age                                id  became_member_on    income  \\\n",
       "1       F  55.0  0610b486422d4921ae7d2bf64640c50b          20170715  112000.0   \n",
       "3       F  75.0  78afa995795e4d85b5d9ceeca43f5fef          20170509  100000.0   \n",
       "5       M  68.0  e2127556f4f64592b11af22de27a7932          20180426   70000.0   \n",
       "8       M  65.0  389bc3fa690240e798340f5a15918d5c          20180209   53000.0   \n",
       "12      M  58.0  2eeac8d8feae4a8cad5a6af0499a211d          20171111   51000.0   \n",
       "\n",
       "    memberdays  year_join  F  M  O  \n",
       "1         2081       2017  1  0  0  \n",
       "3         2148       2017  1  0  0  \n",
       "5         1796       2018  0  1  0  \n",
       "8         1872       2018  0  1  0  \n",
       "12        1962       2017  0  1  0  "
      ]
     },
     "execution_count": 86,
     "metadata": {},
     "output_type": "execute_result"
    }
   ],
   "source": [
    "cleaned_profile = clean_profile(profile)\n",
    "cleaned_profile.head()"
   ]
  },
  {
   "cell_type": "markdown",
   "metadata": {},
   "source": [
    "#### Aggregate Data set"
   ]
  },
  {
   "cell_type": "code",
   "execution_count": 87,
   "metadata": {
    "execution": {
     "iopub.execute_input": "2023-03-28T01:16:08.189279Z",
     "iopub.status.busy": "2023-03-28T01:16:08.189279Z",
     "iopub.status.idle": "2023-03-28T01:16:08.303779Z",
     "shell.execute_reply": "2023-03-28T01:16:08.303279Z",
     "shell.execute_reply.started": "2023-03-28T01:16:08.189279Z"
    },
    "tags": []
   },
   "outputs": [
    {
     "data": {
      "text/plain": [
       "(167581, 28)"
      ]
     },
     "execution_count": 87,
     "metadata": {},
     "output_type": "execute_result"
    }
   ],
   "source": [
    "all_data = cleaned_transcript.merge(cleaned_portfolio.rename(columns={\"reward\": \"reward_p\"}),\n",
    "                                    left_on=\"offer_id\", right_on=\"id\")\n",
    "all_data.drop(columns=['id'], inplace=True)\n",
    "all_data.shape"
   ]
  },
  {
   "cell_type": "code",
   "execution_count": 88,
   "metadata": {
    "execution": {
     "iopub.execute_input": "2023-03-28T01:16:08.604782Z",
     "iopub.status.busy": "2023-03-28T01:16:08.604279Z",
     "iopub.status.idle": "2023-03-28T01:16:08.613780Z",
     "shell.execute_reply": "2023-03-28T01:16:08.613281Z",
     "shell.execute_reply.started": "2023-03-28T01:16:08.604279Z"
    },
    "tags": []
   },
   "outputs": [],
   "source": [
    "def agg_event(df, col=\"offer_type\", items=None):\n",
    "    \"\"\"\n",
    "    aggregate offer completion rate\n",
    "    df: whole or subset of the merged dataset\n",
    "    col: column of interest\n",
    "    items: selected items in the column\n",
    "    \"\"\"\n",
    "    if not items:\n",
    "        items = df[col].unique()\n",
    "    item = items[0]\n",
    "    event = pd.DataFrame(df[df[col] == item]['event'].value_counts())\n",
    "    event.rename(columns={'event': item}, inplace=True)\n",
    "    for item in items[1:]:\n",
    "        event[item] = pd.DataFrame(df[df[col] == item]['event'].value_counts())\n",
    "    event_T = event.T\n",
    "    event_T['completed/received'] = event_T['offer completed'] / event_T['offer received']\n",
    "    event_T['viewed/received'] = event_T['offer viewed'] / event_T['offer received']\n",
    "    event_T['completed/viewed'] = event_T['offer completed'] / event_T['offer viewed']\n",
    "    \n",
    "    return event_T.sort_index()"
   ]
  },
  {
   "cell_type": "code",
   "execution_count": 89,
   "metadata": {
    "execution": {
     "iopub.execute_input": "2023-03-28T01:16:08.964779Z",
     "iopub.status.busy": "2023-03-28T01:16:08.964279Z",
     "iopub.status.idle": "2023-03-28T01:16:09.884779Z",
     "shell.execute_reply": "2023-03-28T01:16:09.884279Z",
     "shell.execute_reply.started": "2023-03-28T01:16:08.964779Z"
    },
    "tags": []
   },
   "outputs": [
    {
     "data": {
      "text/html": [
       "<style type=\"text/css\">\n",
       "</style>\n",
       "<table id=\"T_04269\">\n",
       "  <caption>channel = web</caption>\n",
       "  <thead>\n",
       "    <tr>\n",
       "      <th class=\"blank level0\" >&nbsp;</th>\n",
       "      <th id=\"T_04269_level0_col0\" class=\"col_heading level0 col0\" >offer received</th>\n",
       "      <th id=\"T_04269_level0_col1\" class=\"col_heading level0 col1\" >offer viewed</th>\n",
       "      <th id=\"T_04269_level0_col2\" class=\"col_heading level0 col2\" >offer completed</th>\n",
       "      <th id=\"T_04269_level0_col3\" class=\"col_heading level0 col3\" >completed/received</th>\n",
       "      <th id=\"T_04269_level0_col4\" class=\"col_heading level0 col4\" >viewed/received</th>\n",
       "      <th id=\"T_04269_level0_col5\" class=\"col_heading level0 col5\" >completed/viewed</th>\n",
       "    </tr>\n",
       "  </thead>\n",
       "  <tbody>\n",
       "    <tr>\n",
       "      <th id=\"T_04269_level0_row0\" class=\"row_heading level0 row0\" >bogo</th>\n",
       "      <td id=\"T_04269_row0_col0\" class=\"data row0 col0\" >22841.000000</td>\n",
       "      <td id=\"T_04269_row0_col1\" class=\"data row0 col1\" >18733.000000</td>\n",
       "      <td id=\"T_04269_row0_col2\" class=\"data row0 col2\" >11981.000000</td>\n",
       "      <td id=\"T_04269_row0_col3\" class=\"data row0 col3\" >0.524539</td>\n",
       "      <td id=\"T_04269_row0_col4\" class=\"data row0 col4\" >0.820148</td>\n",
       "      <td id=\"T_04269_row0_col5\" class=\"data row0 col5\" >0.639567</td>\n",
       "    </tr>\n",
       "    <tr>\n",
       "      <th id=\"T_04269_level0_row1\" class=\"row_heading level0 row1\" >discount</th>\n",
       "      <td id=\"T_04269_row1_col0\" class=\"data row1 col0\" >30543.000000</td>\n",
       "      <td id=\"T_04269_row1_col1\" class=\"data row1 col1\" >21445.000000</td>\n",
       "      <td id=\"T_04269_row1_col2\" class=\"data row1 col2\" >17910.000000</td>\n",
       "      <td id=\"T_04269_row1_col3\" class=\"data row1 col3\" >0.586386</td>\n",
       "      <td id=\"T_04269_row1_col4\" class=\"data row1 col4\" >0.702125</td>\n",
       "      <td id=\"T_04269_row1_col5\" class=\"data row1 col5\" >0.835160</td>\n",
       "    </tr>\n",
       "    <tr>\n",
       "      <th id=\"T_04269_level0_row2\" class=\"row_heading level0 row2\" >informational</th>\n",
       "      <td id=\"T_04269_row2_col0\" class=\"data row2 col0\" >7617.000000</td>\n",
       "      <td id=\"T_04269_row2_col1\" class=\"data row2 col1\" >4144.000000</td>\n",
       "      <td id=\"T_04269_row2_col2\" class=\"data row2 col2\" >nan</td>\n",
       "      <td id=\"T_04269_row2_col3\" class=\"data row2 col3\" >nan</td>\n",
       "      <td id=\"T_04269_row2_col4\" class=\"data row2 col4\" >0.544046</td>\n",
       "      <td id=\"T_04269_row2_col5\" class=\"data row2 col5\" >nan</td>\n",
       "    </tr>\n",
       "  </tbody>\n",
       "</table>\n"
      ],
      "text/plain": [
       "<pandas.io.formats.style.Styler at 0x19d89328310>"
      ]
     },
     "metadata": {},
     "output_type": "display_data"
    },
    {
     "data": {
      "text/html": [
       "<style type=\"text/css\">\n",
       "</style>\n",
       "<table id=\"T_58689\">\n",
       "  <caption>channel = email</caption>\n",
       "  <thead>\n",
       "    <tr>\n",
       "      <th class=\"blank level0\" >&nbsp;</th>\n",
       "      <th id=\"T_58689_level0_col0\" class=\"col_heading level0 col0\" >offer received</th>\n",
       "      <th id=\"T_58689_level0_col1\" class=\"col_heading level0 col1\" >offer viewed</th>\n",
       "      <th id=\"T_58689_level0_col2\" class=\"col_heading level0 col2\" >offer completed</th>\n",
       "      <th id=\"T_58689_level0_col3\" class=\"col_heading level0 col3\" >completed/received</th>\n",
       "      <th id=\"T_58689_level0_col4\" class=\"col_heading level0 col4\" >viewed/received</th>\n",
       "      <th id=\"T_58689_level0_col5\" class=\"col_heading level0 col5\" >completed/viewed</th>\n",
       "    </tr>\n",
       "  </thead>\n",
       "  <tbody>\n",
       "    <tr>\n",
       "      <th id=\"T_58689_level0_row0\" class=\"row_heading level0 row0\" >bogo</th>\n",
       "      <td id=\"T_58689_row0_col0\" class=\"data row0 col0\" >30499.000000</td>\n",
       "      <td id=\"T_58689_row0_col1\" class=\"data row0 col1\" >25449.000000</td>\n",
       "      <td id=\"T_58689_row0_col2\" class=\"data row0 col2\" >15669.000000</td>\n",
       "      <td id=\"T_58689_row0_col3\" class=\"data row0 col3\" >0.513755</td>\n",
       "      <td id=\"T_58689_row0_col4\" class=\"data row0 col4\" >0.834421</td>\n",
       "      <td id=\"T_58689_row0_col5\" class=\"data row0 col5\" >0.615702</td>\n",
       "    </tr>\n",
       "    <tr>\n",
       "      <th id=\"T_58689_level0_row1\" class=\"row_heading level0 row1\" >discount</th>\n",
       "      <td id=\"T_58689_row1_col0\" class=\"data row1 col0\" >30543.000000</td>\n",
       "      <td id=\"T_58689_row1_col1\" class=\"data row1 col1\" >21445.000000</td>\n",
       "      <td id=\"T_58689_row1_col2\" class=\"data row1 col2\" >17910.000000</td>\n",
       "      <td id=\"T_58689_row1_col3\" class=\"data row1 col3\" >0.586386</td>\n",
       "      <td id=\"T_58689_row1_col4\" class=\"data row1 col4\" >0.702125</td>\n",
       "      <td id=\"T_58689_row1_col5\" class=\"data row1 col5\" >0.835160</td>\n",
       "    </tr>\n",
       "    <tr>\n",
       "      <th id=\"T_58689_level0_row2\" class=\"row_heading level0 row2\" >informational</th>\n",
       "      <td id=\"T_58689_row2_col0\" class=\"data row2 col0\" >15235.000000</td>\n",
       "      <td id=\"T_58689_row2_col1\" class=\"data row2 col1\" >10831.000000</td>\n",
       "      <td id=\"T_58689_row2_col2\" class=\"data row2 col2\" >nan</td>\n",
       "      <td id=\"T_58689_row2_col3\" class=\"data row2 col3\" >nan</td>\n",
       "      <td id=\"T_58689_row2_col4\" class=\"data row2 col4\" >0.710929</td>\n",
       "      <td id=\"T_58689_row2_col5\" class=\"data row2 col5\" >nan</td>\n",
       "    </tr>\n",
       "  </tbody>\n",
       "</table>\n"
      ],
      "text/plain": [
       "<pandas.io.formats.style.Styler at 0x19da137d7c0>"
      ]
     },
     "metadata": {},
     "output_type": "display_data"
    },
    {
     "data": {
      "text/html": [
       "<style type=\"text/css\">\n",
       "</style>\n",
       "<table id=\"T_d5664\">\n",
       "  <caption>channel = mobile</caption>\n",
       "  <thead>\n",
       "    <tr>\n",
       "      <th class=\"blank level0\" >&nbsp;</th>\n",
       "      <th id=\"T_d5664_level0_col0\" class=\"col_heading level0 col0\" >offer received</th>\n",
       "      <th id=\"T_d5664_level0_col1\" class=\"col_heading level0 col1\" >offer viewed</th>\n",
       "      <th id=\"T_d5664_level0_col2\" class=\"col_heading level0 col2\" >offer completed</th>\n",
       "      <th id=\"T_d5664_level0_col3\" class=\"col_heading level0 col3\" >completed/received</th>\n",
       "      <th id=\"T_d5664_level0_col4\" class=\"col_heading level0 col4\" >viewed/received</th>\n",
       "      <th id=\"T_d5664_level0_col5\" class=\"col_heading level0 col5\" >completed/viewed</th>\n",
       "    </tr>\n",
       "  </thead>\n",
       "  <tbody>\n",
       "    <tr>\n",
       "      <th id=\"T_d5664_level0_row0\" class=\"row_heading level0 row0\" >bogo</th>\n",
       "      <td id=\"T_d5664_row0_col0\" class=\"data row0 col0\" >30499.000000</td>\n",
       "      <td id=\"T_d5664_row0_col1\" class=\"data row0 col1\" >25449.000000</td>\n",
       "      <td id=\"T_d5664_row0_col2\" class=\"data row0 col2\" >15669.000000</td>\n",
       "      <td id=\"T_d5664_row0_col3\" class=\"data row0 col3\" >0.513755</td>\n",
       "      <td id=\"T_d5664_row0_col4\" class=\"data row0 col4\" >0.834421</td>\n",
       "      <td id=\"T_d5664_row0_col5\" class=\"data row0 col5\" >0.615702</td>\n",
       "    </tr>\n",
       "    <tr>\n",
       "      <th id=\"T_d5664_level0_row1\" class=\"row_heading level0 row1\" >discount</th>\n",
       "      <td id=\"T_d5664_row1_col0\" class=\"data row1 col0\" >22875.000000</td>\n",
       "      <td id=\"T_d5664_row1_col1\" class=\"data row1 col1\" >18782.000000</td>\n",
       "      <td id=\"T_d5664_row1_col2\" class=\"data row1 col2\" >14490.000000</td>\n",
       "      <td id=\"T_d5664_row1_col3\" class=\"data row1 col3\" >0.633443</td>\n",
       "      <td id=\"T_d5664_row1_col4\" class=\"data row1 col4\" >0.821071</td>\n",
       "      <td id=\"T_d5664_row1_col5\" class=\"data row1 col5\" >0.771483</td>\n",
       "    </tr>\n",
       "    <tr>\n",
       "      <th id=\"T_d5664_level0_row2\" class=\"row_heading level0 row2\" >informational</th>\n",
       "      <td id=\"T_d5664_row2_col0\" class=\"data row2 col0\" >15235.000000</td>\n",
       "      <td id=\"T_d5664_row2_col1\" class=\"data row2 col1\" >10831.000000</td>\n",
       "      <td id=\"T_d5664_row2_col2\" class=\"data row2 col2\" >nan</td>\n",
       "      <td id=\"T_d5664_row2_col3\" class=\"data row2 col3\" >nan</td>\n",
       "      <td id=\"T_d5664_row2_col4\" class=\"data row2 col4\" >0.710929</td>\n",
       "      <td id=\"T_d5664_row2_col5\" class=\"data row2 col5\" >nan</td>\n",
       "    </tr>\n",
       "  </tbody>\n",
       "</table>\n"
      ],
      "text/plain": [
       "<pandas.io.formats.style.Styler at 0x19d8346c670>"
      ]
     },
     "metadata": {},
     "output_type": "display_data"
    },
    {
     "data": {
      "text/html": [
       "<style type=\"text/css\">\n",
       "</style>\n",
       "<table id=\"T_f78b3\">\n",
       "  <caption>channel = social</caption>\n",
       "  <thead>\n",
       "    <tr>\n",
       "      <th class=\"blank level0\" >&nbsp;</th>\n",
       "      <th id=\"T_f78b3_level0_col0\" class=\"col_heading level0 col0\" >offer received</th>\n",
       "      <th id=\"T_f78b3_level0_col1\" class=\"col_heading level0 col1\" >offer viewed</th>\n",
       "      <th id=\"T_f78b3_level0_col2\" class=\"col_heading level0 col2\" >offer completed</th>\n",
       "      <th id=\"T_f78b3_level0_col3\" class=\"col_heading level0 col3\" >completed/received</th>\n",
       "      <th id=\"T_f78b3_level0_col4\" class=\"col_heading level0 col4\" >viewed/received</th>\n",
       "      <th id=\"T_f78b3_level0_col5\" class=\"col_heading level0 col5\" >completed/viewed</th>\n",
       "    </tr>\n",
       "  </thead>\n",
       "  <tbody>\n",
       "    <tr>\n",
       "      <th id=\"T_f78b3_level0_row0\" class=\"row_heading level0 row0\" >bogo</th>\n",
       "      <td id=\"T_f78b3_row0_col0\" class=\"data row0 col0\" >22822.000000</td>\n",
       "      <td id=\"T_f78b3_row0_col1\" class=\"data row0 col1\" >21278.000000</td>\n",
       "      <td id=\"T_f78b3_row0_col2\" class=\"data row0 col2\" >11315.000000</td>\n",
       "      <td id=\"T_f78b3_row0_col3\" class=\"data row0 col3\" >0.495794</td>\n",
       "      <td id=\"T_f78b3_row0_col4\" class=\"data row0 col4\" >0.932346</td>\n",
       "      <td id=\"T_f78b3_row0_col5\" class=\"data row0 col5\" >0.531770</td>\n",
       "    </tr>\n",
       "    <tr>\n",
       "      <th id=\"T_f78b3_level0_row1\" class=\"row_heading level0 row1\" >discount</th>\n",
       "      <td id=\"T_f78b3_row1_col0\" class=\"data row1 col0\" >15243.000000</td>\n",
       "      <td id=\"T_f78b3_row1_col1\" class=\"data row1 col1\" >14664.000000</td>\n",
       "      <td id=\"T_f78b3_row1_col2\" class=\"data row1 col2\" >10473.000000</td>\n",
       "      <td id=\"T_f78b3_row1_col3\" class=\"data row1 col3\" >0.687069</td>\n",
       "      <td id=\"T_f78b3_row1_col4\" class=\"data row1 col4\" >0.962015</td>\n",
       "      <td id=\"T_f78b3_row1_col5\" class=\"data row1 col5\" >0.714198</td>\n",
       "    </tr>\n",
       "    <tr>\n",
       "      <th id=\"T_f78b3_level0_row2\" class=\"row_heading level0 row2\" >informational</th>\n",
       "      <td id=\"T_f78b3_row2_col0\" class=\"data row2 col0\" >7618.000000</td>\n",
       "      <td id=\"T_f78b3_row2_col1\" class=\"data row2 col1\" >6687.000000</td>\n",
       "      <td id=\"T_f78b3_row2_col2\" class=\"data row2 col2\" >nan</td>\n",
       "      <td id=\"T_f78b3_row2_col3\" class=\"data row2 col3\" >nan</td>\n",
       "      <td id=\"T_f78b3_row2_col4\" class=\"data row2 col4\" >0.877789</td>\n",
       "      <td id=\"T_f78b3_row2_col5\" class=\"data row2 col5\" >nan</td>\n",
       "    </tr>\n",
       "  </tbody>\n",
       "</table>\n"
      ],
      "text/plain": [
       "<pandas.io.formats.style.Styler at 0x19d8678ff70>"
      ]
     },
     "metadata": {},
     "output_type": "display_data"
    },
    {
     "data": {
      "image/png": "[encoded data removed]",
      "text/plain": [
       "<Figure size 1000x600 with 1 Axes>"
      ]
     },
     "metadata": {},
     "output_type": "display_data"
    },
    {
     "data": {
      "image/png": "[encoded data removed]",
      "text/plain": [
       "<Figure size 1000x600 with 1 Axes>"
      ]
     },
     "metadata": {},
     "output_type": "display_data"
    },
    {
     "data": {
      "image/png": "[encoded data removed]",
      "text/plain": [
       "<Figure size 1000x600 with 1 Axes>"
      ]
     },
     "metadata": {},
     "output_type": "display_data"
    },
    {
     "data": {
      "image/png": "[encoded data removed]",
      "text/plain": [
       "<Figure size 1000x600 with 1 Axes>"
      ]
     },
     "metadata": {},
     "output_type": "display_data"
    }
   ],
   "source": [
    "for channel in ['web', 'email', 'mobile', 'social']:\n",
    "    agg = agg_event(all_data[(all_data[channel] == 1)], col='offer_type')\n",
    "    title = \"channel = {}\".format(channel)\n",
    "    display(agg.style.set_caption(title))\n",
    "    agg[['completed/received', 'viewed/received', 'completed/viewed']].plot(kind=\"bar\", figsize=(10, 6))\n",
    "    plt.title(title)"
   ]
  },
  {
   "cell_type": "markdown",
   "metadata": {},
   "source": [
    "Promotion through social media is more effective than other channels"
   ]
  },
  {
   "cell_type": "markdown",
   "metadata": {},
   "source": [
    "***"
   ]
  },
  {
   "cell_type": "markdown",
   "metadata": {},
   "source": [
    "### Can we build a model to predict the customers' behavior and send out customized promotional offers to individuals?"
   ]
  },
  {
   "cell_type": "markdown",
   "metadata": {},
   "source": [
    "## Modeling and Evaluation"
   ]
  },
  {
   "cell_type": "code",
   "execution_count": 91,
   "metadata": {
    "execution": {
     "iopub.execute_input": "2023-03-28T01:54:41.308017Z",
     "iopub.status.busy": "2023-03-28T01:54:41.307519Z",
     "iopub.status.idle": "2023-03-28T01:54:41.324017Z",
     "shell.execute_reply": "2023-03-28T01:54:41.323517Z",
     "shell.execute_reply.started": "2023-03-28T01:54:41.308017Z"
    },
    "tags": []
   },
   "outputs": [],
   "source": [
    "from sklearn.model_selection import train_test_split\n",
    "from sklearn.neighbors import KNeighborsClassifier\n",
    "from sklearn.preprocessing import MinMaxScaler\n",
    "from sklearn.metrics import accuracy_score, f1_score\n",
    "from sklearn.ensemble import GradientBoostingClassifier, RandomForestClassifier\n",
    "from sklearn.linear_model import LogisticRegression\n",
    "from sklearn.metrics import fbeta_score, make_scorer\n",
    "from sklearn.model_selection import GridSearchCV, RepeatedStratifiedKFold, cross_val_score\n",
    "from sklearn.model_selection import RandomizedSearchCV\n",
    "from sklearn.pipeline import Pipeline\n",
    "from sklearn.metrics import classification_report"
   ]
  },
  {
   "cell_type": "code",
   "execution_count": 43,
   "metadata": {
    "execution": {
     "iopub.execute_input": "2023-03-28T00:42:27.513509Z",
     "iopub.status.busy": "2023-03-28T00:42:27.513009Z",
     "iopub.status.idle": "2023-03-28T00:42:27.528011Z",
     "shell.execute_reply": "2023-03-28T00:42:27.527512Z",
     "shell.execute_reply.started": "2023-03-28T00:42:27.513509Z"
    }
   },
   "outputs": [],
   "source": [
    "def evaluate_model_performance(model, X, y):\n",
    "    \"\"\" Prints a model's accuracy and F1-score\n",
    "    \n",
    "    INPUT:\n",
    "        model: Model object\n",
    "        \n",
    "        X: Training data matrix\n",
    "\n",
    "        y: Expected model output vector\n",
    "    \n",
    "    OUTPUT:\n",
    "        accuracy: Model accuracy\n",
    "        \n",
    "        f1_score: Model F1-score\"\"\"\n",
    "    \n",
    "\n",
    "    y_pred = model.predict(X)\n",
    "\n",
    "    model_accuracy = accuracy_score(y, y_pred)\n",
    "    model_f1_score = f1_score(y, y_pred)\n",
    "    \n",
    "    return model_accuracy, model_f1_score"
   ]
  },
  {
   "cell_type": "code",
   "execution_count": 50,
   "metadata": {
    "execution": {
     "iopub.execute_input": "2023-03-28T00:43:57.835673Z",
     "iopub.status.busy": "2023-03-28T00:43:57.835673Z",
     "iopub.status.idle": "2023-03-28T00:43:57.992673Z",
     "shell.execute_reply": "2023-03-28T00:43:57.992172Z",
     "shell.execute_reply.started": "2023-03-28T00:43:57.835673Z"
    },
    "tags": []
   },
   "outputs": [
    {
     "name": "stdout",
     "output_type": "stream",
     "text": [
      "Label success ratio = 0.42553692368983376\n"
     ]
    }
   ],
   "source": [
    "# Generate dataset for model\n",
    "\n",
    "offers = pd.DataFrame(all_data.groupby(['person', 'offer_id'])[['offer received', 'offer viewed', 'offer completed']].sum())\n",
    "offers = offers.reset_index()\n",
    "# Generate y label: either viewed=0 or completed=0 means not successful\n",
    "offers['success'] = (offers['offer viewed'] * offers['offer completed']).astype(bool)\n",
    "\n",
    "offers = offers.merge(cleaned_profile, left_on='person', right_on='id')\n",
    "offers.drop(columns=['id'], inplace=True)\n",
    "offers = offers.merge(cleaned_portfolio, left_on='offer_id', right_on='id')\n",
    "offers.drop(columns=['id'], inplace=True)\n",
    "\n",
    "print(\"Label success ratio = {}\".format(offers.success.mean()))"
   ]
  },
  {
   "cell_type": "code",
   "execution_count": 53,
   "metadata": {
    "execution": {
     "iopub.execute_input": "2023-03-28T00:44:57.778675Z",
     "iopub.status.busy": "2023-03-28T00:44:57.778174Z",
     "iopub.status.idle": "2023-03-28T00:44:57.807173Z",
     "shell.execute_reply": "2023-03-28T00:44:57.806174Z",
     "shell.execute_reply.started": "2023-03-28T00:44:57.778675Z"
    },
    "tags": []
   },
   "outputs": [
    {
     "name": "stdout",
     "output_type": "stream",
     "text": [
      "success              0.425537\n",
      "age                 54.349969\n",
      "income           65388.595125\n",
      "memberdays        2226.272084\n",
      "F                    0.413024\n",
      "M                    0.573051\n",
      "O                    0.013926\n",
      "reward               4.204737\n",
      "difficulty           7.718554\n",
      "duration             6.508239\n",
      "web                  0.799337\n",
      "mobile               0.898808\n",
      "social               0.599181\n",
      "bogo                 0.399515\n",
      "discount             0.400547\n",
      "informational        0.199938\n",
      "year_join         2016.624371\n",
      "dtype: float64\n"
     ]
    }
   ],
   "source": [
    "## select predictors\n",
    "df_for_models = offers[['success', 'age', 'income', 'memberdays', 'F', 'M', 'O', 'reward', 'difficulty', 'duration',\n",
    "                'web', 'mobile', 'social', 'bogo', 'discount', 'informational', 'year_join']]\n",
    "\n",
    "print(df_for_models.mean())\n",
    "\n",
    "y = df_for_models['success']\n",
    "X = df_for_models.drop(['success'], axis=1)\n",
    "\n",
    "# train test dataset split\n",
    "X_train, X_test, y_train, y_test = train_test_split(X, y, test_size=0.3, random_state=42)"
   ]
  },
  {
   "cell_type": "code",
   "execution_count": 55,
   "metadata": {
    "execution": {
     "iopub.execute_input": "2023-03-28T00:46:39.959943Z",
     "iopub.status.busy": "2023-03-28T00:46:39.959442Z",
     "iopub.status.idle": "2023-03-28T00:46:39.978443Z",
     "shell.execute_reply": "2023-03-28T00:46:39.977943Z",
     "shell.execute_reply.started": "2023-03-28T00:46:39.959943Z"
    }
   },
   "outputs": [
    {
     "data": {
      "text/html": [
       "<div>\n",
       "<style scoped>\n",
       "    .dataframe tbody tr th:only-of-type {\n",
       "        vertical-align: middle;\n",
       "    }\n",
       "\n",
       "    .dataframe tbody tr th {\n",
       "        vertical-align: top;\n",
       "    }\n",
       "\n",
       "    .dataframe thead th {\n",
       "        text-align: right;\n",
       "    }\n",
       "</style>\n",
       "<table border=\"1\" class=\"dataframe\">\n",
       "  <thead>\n",
       "    <tr style=\"text-align: right;\">\n",
       "      <th></th>\n",
       "      <th>success</th>\n",
       "      <th>age</th>\n",
       "      <th>income</th>\n",
       "      <th>memberdays</th>\n",
       "      <th>F</th>\n",
       "      <th>M</th>\n",
       "      <th>O</th>\n",
       "      <th>reward</th>\n",
       "      <th>difficulty</th>\n",
       "      <th>duration</th>\n",
       "      <th>web</th>\n",
       "      <th>mobile</th>\n",
       "      <th>social</th>\n",
       "      <th>bogo</th>\n",
       "      <th>discount</th>\n",
       "      <th>informational</th>\n",
       "      <th>year_join</th>\n",
       "    </tr>\n",
       "  </thead>\n",
       "  <tbody>\n",
       "    <tr>\n",
       "      <th>0</th>\n",
       "      <td>False</td>\n",
       "      <td>33.0</td>\n",
       "      <td>72000.0</td>\n",
       "      <td>2166</td>\n",
       "      <td>0</td>\n",
       "      <td>1</td>\n",
       "      <td>0</td>\n",
       "      <td>2</td>\n",
       "      <td>10</td>\n",
       "      <td>7</td>\n",
       "      <td>1</td>\n",
       "      <td>1</td>\n",
       "      <td>0</td>\n",
       "      <td>0</td>\n",
       "      <td>1</td>\n",
       "      <td>0</td>\n",
       "      <td>2017</td>\n",
       "    </tr>\n",
       "    <tr>\n",
       "      <th>1</th>\n",
       "      <td>False</td>\n",
       "      <td>19.0</td>\n",
       "      <td>65000.0</td>\n",
       "      <td>2421</td>\n",
       "      <td>1</td>\n",
       "      <td>0</td>\n",
       "      <td>0</td>\n",
       "      <td>2</td>\n",
       "      <td>10</td>\n",
       "      <td>7</td>\n",
       "      <td>1</td>\n",
       "      <td>1</td>\n",
       "      <td>0</td>\n",
       "      <td>0</td>\n",
       "      <td>1</td>\n",
       "      <td>0</td>\n",
       "      <td>2016</td>\n",
       "    </tr>\n",
       "    <tr>\n",
       "      <th>2</th>\n",
       "      <td>False</td>\n",
       "      <td>56.0</td>\n",
       "      <td>47000.0</td>\n",
       "      <td>1934</td>\n",
       "      <td>0</td>\n",
       "      <td>1</td>\n",
       "      <td>0</td>\n",
       "      <td>2</td>\n",
       "      <td>10</td>\n",
       "      <td>7</td>\n",
       "      <td>1</td>\n",
       "      <td>1</td>\n",
       "      <td>0</td>\n",
       "      <td>0</td>\n",
       "      <td>1</td>\n",
       "      <td>0</td>\n",
       "      <td>2017</td>\n",
       "    </tr>\n",
       "    <tr>\n",
       "      <th>3</th>\n",
       "      <td>True</td>\n",
       "      <td>58.0</td>\n",
       "      <td>119000.0</td>\n",
       "      <td>1936</td>\n",
       "      <td>1</td>\n",
       "      <td>0</td>\n",
       "      <td>0</td>\n",
       "      <td>2</td>\n",
       "      <td>10</td>\n",
       "      <td>7</td>\n",
       "      <td>1</td>\n",
       "      <td>1</td>\n",
       "      <td>0</td>\n",
       "      <td>0</td>\n",
       "      <td>1</td>\n",
       "      <td>0</td>\n",
       "      <td>2017</td>\n",
       "    </tr>\n",
       "    <tr>\n",
       "      <th>4</th>\n",
       "      <td>True</td>\n",
       "      <td>26.0</td>\n",
       "      <td>61000.0</td>\n",
       "      <td>3018</td>\n",
       "      <td>0</td>\n",
       "      <td>1</td>\n",
       "      <td>0</td>\n",
       "      <td>2</td>\n",
       "      <td>10</td>\n",
       "      <td>7</td>\n",
       "      <td>1</td>\n",
       "      <td>1</td>\n",
       "      <td>0</td>\n",
       "      <td>0</td>\n",
       "      <td>1</td>\n",
       "      <td>0</td>\n",
       "      <td>2014</td>\n",
       "    </tr>\n",
       "  </tbody>\n",
       "</table>\n",
       "</div>"
      ],
      "text/plain": [
       "   success   age    income  memberdays  F  M  O  reward  difficulty  duration  \\\n",
       "0    False  33.0   72000.0        2166  0  1  0       2          10         7   \n",
       "1    False  19.0   65000.0        2421  1  0  0       2          10         7   \n",
       "2    False  56.0   47000.0        1934  0  1  0       2          10         7   \n",
       "3     True  58.0  119000.0        1936  1  0  0       2          10         7   \n",
       "4     True  26.0   61000.0        3018  0  1  0       2          10         7   \n",
       "\n",
       "   web  mobile  social  bogo  discount  informational  year_join  \n",
       "0    1       1       0     0         1              0       2017  \n",
       "1    1       1       0     0         1              0       2016  \n",
       "2    1       1       0     0         1              0       2017  \n",
       "3    1       1       0     0         1              0       2017  \n",
       "4    1       1       0     0         1              0       2014  "
      ]
     },
     "execution_count": 55,
     "metadata": {},
     "output_type": "execute_result"
    }
   ],
   "source": [
    "df_for_models.head()"
   ]
  },
  {
   "cell_type": "code",
   "execution_count": 56,
   "metadata": {
    "execution": {
     "iopub.execute_input": "2023-03-28T00:48:06.976461Z",
     "iopub.status.busy": "2023-03-28T00:48:06.975960Z",
     "iopub.status.idle": "2023-03-28T00:48:14.185962Z",
     "shell.execute_reply": "2023-03-28T00:48:14.185461Z",
     "shell.execute_reply.started": "2023-03-28T00:48:06.976461Z"
    },
    "tags": []
   },
   "outputs": [
    {
     "name": "stdout",
     "output_type": "stream",
     "text": [
      "LogisticRegression\n",
      "Traing accuracy: 0.686, testing accuracy: 0.686\n",
      "RandomForestClassifier\n",
      "Traing accuracy: 1.000, testing accuracy: 0.742\n",
      "GradientBoostingClassifier\n",
      "Traing accuracy: 0.770, testing accuracy: 0.765\n"
     ]
    },
    {
     "name": "stderr",
     "output_type": "stream",
     "text": [
      "C:\\ProgramData\\Anaconda3\\lib\\site-packages\\sklearn\\neighbors\\_classification.py:189: FutureWarning: Unlike other reduction functions (e.g. `skew`, `kurtosis`), the default behavior of `mode` typically preserves the axis it acts along. In SciPy 1.11.0, this behavior will change: the default value of `keepdims` will become False, the `axis` over which the statistic is taken will be eliminated, and the value None will no longer be accepted. Set `keepdims` to True or False to avoid this warning.\n",
      "  mode, _ = stats.mode(_y[neigh_ind, k], axis=1)\n",
      "C:\\ProgramData\\Anaconda3\\lib\\site-packages\\sklearn\\neighbors\\_classification.py:189: FutureWarning: Unlike other reduction functions (e.g. `skew`, `kurtosis`), the default behavior of `mode` typically preserves the axis it acts along. In SciPy 1.11.0, this behavior will change: the default value of `keepdims` will become False, the `axis` over which the statistic is taken will be eliminated, and the value None will no longer be accepted. Set `keepdims` to True or False to avoid this warning.\n",
      "  mode, _ = stats.mode(_y[neigh_ind, k], axis=1)\n"
     ]
    },
    {
     "name": "stdout",
     "output_type": "stream",
     "text": [
      "KNeighborsClassifier\n",
      "Traing accuracy: 0.761, testing accuracy: 0.620\n"
     ]
    }
   ],
   "source": [
    "# Initial model implemenentation\n",
    "models = [(\"LogisticRegression\", LogisticRegression(solver='liblinear')),\n",
    "          (\"RandomForestClassifier\", RandomForestClassifier()),\n",
    "         (\"GradientBoostingClassifier\", GradientBoostingClassifier()),\n",
    "         (\"KNeighborsClassifier\", KNeighborsClassifier())]\n",
    "for model_pair in models:\n",
    "    model_name = model_pair[0]\n",
    "    model = model_pair[1]\n",
    "    model.fit(X_train, y_train)\n",
    "    training_accuracy, _ = evaluate_model_performance(model, X_train, y_train)\n",
    "    testing_accuracy, _ = evaluate_model_performance(model, X_test, y_test)\n",
    "    print(model_name)\n",
    "    print(\"Traing accuracy: %.3f, testing accuracy: %.3f\" % (training_accuracy, testing_accuracy))"
   ]
  },
  {
   "cell_type": "markdown",
   "metadata": {},
   "source": [
    "- The testing accuracy for Logistic regression and KNN classifier are low. \n",
    "- The Random forest classifier has overfitting issues.\n",
    "- We will do refinement on Gradient boosting classifier."
   ]
  },
  {
   "cell_type": "markdown",
   "metadata": {},
   "source": [
    "#### Refinement\n",
    "-  Add minmax scaler, use gradientboosting classifier"
   ]
  },
  {
   "cell_type": "code",
   "execution_count": 57,
   "metadata": {
    "execution": {
     "iopub.execute_input": "2023-03-28T00:49:42.260967Z",
     "iopub.status.busy": "2023-03-28T00:49:42.260967Z",
     "iopub.status.idle": "2023-03-28T00:49:44.937967Z",
     "shell.execute_reply": "2023-03-28T00:49:44.937467Z",
     "shell.execute_reply.started": "2023-03-28T00:49:42.260967Z"
    }
   },
   "outputs": [
    {
     "name": "stdout",
     "output_type": "stream",
     "text": [
      "GradientBoostingClassifier Pipeline\n",
      "Traing accuracy: 0.770, testing accuracy: 0.765\n"
     ]
    }
   ],
   "source": [
    "trans = MinMaxScaler()\n",
    "model = GradientBoostingClassifier()\n",
    "pipeline = Pipeline(steps=[('transformer', trans), ('model', model)])\n",
    "\n",
    "# Fit model\n",
    "pipeline.fit(X_train, y_train)\n",
    "\n",
    "# Evaluation\n",
    "training_accuracy, _ = evaluate_model_performance(pipeline, X_train, y_train)\n",
    "testing_accuracy, _ = evaluate_model_performance(pipeline, X_test, y_test)\n",
    "print(\"GradientBoostingClassifier Pipeline\")\n",
    "print(\"Traing accuracy: %.3f, testing accuracy: %.3f\" % (training_accuracy, testing_accuracy))"
   ]
  },
  {
   "cell_type": "code",
   "execution_count": 58,
   "metadata": {
    "execution": {
     "iopub.execute_input": "2023-03-28T00:50:18.878947Z",
     "iopub.status.busy": "2023-03-28T00:50:18.878448Z",
     "iopub.status.idle": "2023-03-28T00:50:18.897944Z",
     "shell.execute_reply": "2023-03-28T00:50:18.897443Z",
     "shell.execute_reply.started": "2023-03-28T00:50:18.878947Z"
    }
   },
   "outputs": [
    {
     "data": {
      "text/plain": [
       "{'memory': None,\n",
       " 'steps': [('transformer', MinMaxScaler()),\n",
       "  ('model', GradientBoostingClassifier())],\n",
       " 'verbose': False,\n",
       " 'transformer': MinMaxScaler(),\n",
       " 'model': GradientBoostingClassifier(),\n",
       " 'transformer__copy': True,\n",
       " 'transformer__feature_range': (0, 1),\n",
       " 'model__ccp_alpha': 0.0,\n",
       " 'model__criterion': 'friedman_mse',\n",
       " 'model__init': None,\n",
       " 'model__learning_rate': 0.1,\n",
       " 'model__loss': 'deviance',\n",
       " 'model__max_depth': 3,\n",
       " 'model__max_features': None,\n",
       " 'model__max_leaf_nodes': None,\n",
       " 'model__min_impurity_decrease': 0.0,\n",
       " 'model__min_impurity_split': None,\n",
       " 'model__min_samples_leaf': 1,\n",
       " 'model__min_samples_split': 2,\n",
       " 'model__min_weight_fraction_leaf': 0.0,\n",
       " 'model__n_estimators': 100,\n",
       " 'model__n_iter_no_change': None,\n",
       " 'model__presort': 'deprecated',\n",
       " 'model__random_state': None,\n",
       " 'model__subsample': 1.0,\n",
       " 'model__tol': 0.0001,\n",
       " 'model__validation_fraction': 0.1,\n",
       " 'model__verbose': 0,\n",
       " 'model__warm_start': False}"
      ]
     },
     "execution_count": 58,
     "metadata": {},
     "output_type": "execute_result"
    }
   ],
   "source": [
    "# Check available parameters for further tuning\n",
    "pipeline.get_params()"
   ]
  },
  {
   "cell_type": "code",
   "execution_count": 59,
   "metadata": {
    "execution": {
     "iopub.execute_input": "2023-03-28T00:50:30.990945Z",
     "iopub.status.busy": "2023-03-28T00:50:30.990445Z",
     "iopub.status.idle": "2023-03-28T00:51:50.331447Z",
     "shell.execute_reply": "2023-03-28T00:51:50.330943Z",
     "shell.execute_reply.started": "2023-03-28T00:50:30.990945Z"
    }
   },
   "outputs": [
    {
     "data": {
      "text/plain": [
       "GridSearchCV(estimator=Pipeline(steps=[('transformer', MinMaxScaler()),\n",
       "                                       ('model',\n",
       "                                        GradientBoostingClassifier())]),\n",
       "             param_grid={'model__min_samples_split': [2, 3],\n",
       "                         'model__n_estimators': [100, 120, 140]})"
      ]
     },
     "execution_count": 59,
     "metadata": {},
     "output_type": "execute_result"
    }
   ],
   "source": [
    "parameters = {'model__n_estimators': [100, 120, 140],\n",
    "              'model__min_samples_split': [2, 3]\n",
    "              }\n",
    "cv = GridSearchCV(pipeline, param_grid=parameters)\n",
    "cv.fit(X_train, y_train)"
   ]
  },
  {
   "cell_type": "code",
   "execution_count": 60,
   "metadata": {
    "execution": {
     "iopub.execute_input": "2023-03-28T00:51:50.332445Z",
     "iopub.status.busy": "2023-03-28T00:51:50.332445Z",
     "iopub.status.idle": "2023-03-28T00:51:50.346947Z",
     "shell.execute_reply": "2023-03-28T00:51:50.346444Z",
     "shell.execute_reply.started": "2023-03-28T00:51:50.332445Z"
    }
   },
   "outputs": [
    {
     "data": {
      "text/plain": [
       "{'model__min_samples_split': 2, 'model__n_estimators': 140}"
      ]
     },
     "execution_count": 60,
     "metadata": {},
     "output_type": "execute_result"
    }
   ],
   "source": [
    "cv.best_params_"
   ]
  },
  {
   "cell_type": "code",
   "execution_count": 61,
   "metadata": {
    "execution": {
     "iopub.execute_input": "2023-03-28T00:51:50.347947Z",
     "iopub.status.busy": "2023-03-28T00:51:50.347444Z",
     "iopub.status.idle": "2023-03-28T00:51:50.362446Z",
     "shell.execute_reply": "2023-03-28T00:51:50.361944Z",
     "shell.execute_reply.started": "2023-03-28T00:51:50.347947Z"
    }
   },
   "outputs": [
    {
     "data": {
      "text/plain": [
       "{'mean_fit_time': array([2.10689969, 2.51269994, 2.9359004 , 2.09190001, 2.48910017,\n",
       "        2.9034996 ]),\n",
       " 'std_fit_time': array([0.00653848, 0.02780282, 0.01774151, 0.02531996, 0.00786983,\n",
       "        0.00551284]),\n",
       " 'mean_score_time': array([0.01199913, 0.01349959, 0.01460018, 0.01200023, 0.0132997 ,\n",
       "        0.01470094]),\n",
       " 'std_score_time': array([1.06624030e-06, 1.16410786e-06, 4.91215867e-04, 3.16506985e-04,\n",
       "        6.78205173e-04, 9.27685501e-04]),\n",
       " 'param_model__min_samples_split': masked_array(data=[2, 2, 2, 3, 3, 3],\n",
       "              mask=[False, False, False, False, False, False],\n",
       "        fill_value='?',\n",
       "             dtype=object),\n",
       " 'param_model__n_estimators': masked_array(data=[100, 120, 140, 100, 120, 140],\n",
       "              mask=[False, False, False, False, False, False],\n",
       "        fill_value='?',\n",
       "             dtype=object),\n",
       " 'params': [{'model__min_samples_split': 2, 'model__n_estimators': 100},\n",
       "  {'model__min_samples_split': 2, 'model__n_estimators': 120},\n",
       "  {'model__min_samples_split': 2, 'model__n_estimators': 140},\n",
       "  {'model__min_samples_split': 3, 'model__n_estimators': 100},\n",
       "  {'model__min_samples_split': 3, 'model__n_estimators': 120},\n",
       "  {'model__min_samples_split': 3, 'model__n_estimators': 140}],\n",
       " 'split0_test_score': array([0.76471349, 0.76419609, 0.76458414, 0.76471349, 0.76419609,\n",
       "        0.76458414]),\n",
       " 'split1_test_score': array([0.76497219, 0.76691243, 0.76820592, 0.76497219, 0.76691243,\n",
       "        0.76820592]),\n",
       " 'split2_test_score': array([0.76510154, 0.76497219, 0.76600698, 0.76510154, 0.76497219,\n",
       "        0.76600698]),\n",
       " 'split3_test_score': array([0.76911137, 0.76988747, 0.77079291, 0.76911137, 0.76988747,\n",
       "        0.77079291]),\n",
       " 'split4_test_score': array([0.77092226, 0.77079291, 0.77001682, 0.77092226, 0.77079291,\n",
       "        0.77001682]),\n",
       " 'mean_test_score': array([0.76696417, 0.76735222, 0.76792136, 0.76696417, 0.76735222,\n",
       "        0.76792136]),\n",
       " 'std_test_score': array([0.00256046, 0.00261094, 0.00234604, 0.00256046, 0.00261094,\n",
       "        0.00234604]),\n",
       " 'rank_test_score': array([5, 3, 1, 5, 3, 1])}"
      ]
     },
     "execution_count": 61,
     "metadata": {},
     "output_type": "execute_result"
    }
   ],
   "source": [
    "cv.cv_results_"
   ]
  },
  {
   "cell_type": "code",
   "execution_count": 62,
   "metadata": {
    "execution": {
     "iopub.execute_input": "2023-03-28T00:51:50.363445Z",
     "iopub.status.busy": "2023-03-28T00:51:50.363445Z",
     "iopub.status.idle": "2023-03-28T00:51:50.486445Z",
     "shell.execute_reply": "2023-03-28T00:51:50.485944Z",
     "shell.execute_reply.started": "2023-03-28T00:51:50.363445Z"
    }
   },
   "outputs": [
    {
     "name": "stdout",
     "output_type": "stream",
     "text": [
      "Fine tuned model\n",
      "GradientBoostingClassifier Pipeline\n",
      "Traing accuracy: 0.773, testing accuracy: 0.767\n"
     ]
    }
   ],
   "source": [
    "# The fine tuned model performs slightly better than original model\n",
    "print(\"Fine tuned model\")\n",
    "training_accuracy, _ = evaluate_model_performance(cv, X_train, y_train)\n",
    "testing_accuracy, _ = evaluate_model_performance(cv, X_test, y_test)\n",
    "print(\"GradientBoostingClassifier Pipeline\")\n",
    "print(\"Traing accuracy: %.3f, testing accuracy: %.3f\" % (training_accuracy, testing_accuracy))"
   ]
  },
  {
   "cell_type": "code",
   "execution_count": 93,
   "metadata": {
    "execution": {
     "iopub.execute_input": "2023-03-28T01:56:54.569487Z",
     "iopub.status.busy": "2023-03-28T01:56:54.569487Z",
     "iopub.status.idle": "2023-03-28T01:56:54.618488Z",
     "shell.execute_reply": "2023-03-28T01:56:54.618488Z",
     "shell.execute_reply.started": "2023-03-28T01:56:54.569487Z"
    }
   },
   "outputs": [],
   "source": [
    "y_pred = cv.predict(X_test)"
   ]
  },
  {
   "cell_type": "code",
   "execution_count": 94,
   "metadata": {
    "execution": {
     "iopub.execute_input": "2023-03-28T01:56:58.724490Z",
     "iopub.status.busy": "2023-03-28T01:56:58.723989Z",
     "iopub.status.idle": "2023-03-28T01:56:58.757487Z",
     "shell.execute_reply": "2023-03-28T01:56:58.756988Z",
     "shell.execute_reply.started": "2023-03-28T01:56:58.724490Z"
    }
   },
   "outputs": [
    {
     "name": "stdout",
     "output_type": "stream",
     "text": [
      "              precision    recall  f1-score   support\n",
      "\n",
      "       False       0.80      0.80      0.80      9541\n",
      "        True       0.73      0.73      0.73      7026\n",
      "\n",
      "    accuracy                           0.77     16567\n",
      "   macro avg       0.76      0.76      0.76     16567\n",
      "weighted avg       0.77      0.77      0.77     16567\n",
      "\n"
     ]
    }
   ],
   "source": [
    "print(classification_report(y_test, y_pred))"
   ]
  },
  {
   "cell_type": "markdown",
   "metadata": {},
   "source": [
    "### Evaluating the result of the model\n",
    "- Assuming we don't have a prediction model, and we ending up sending offers to everyone. \n",
    "- As a result, all the offers will be considered \"success\"\n"
   ]
  },
  {
   "cell_type": "code",
   "execution_count": 63,
   "metadata": {
    "execution": {
     "iopub.execute_input": "2023-03-28T00:52:57.586445Z",
     "iopub.status.busy": "2023-03-28T00:52:57.585945Z",
     "iopub.status.idle": "2023-03-28T00:52:57.600944Z",
     "shell.execute_reply": "2023-03-28T00:52:57.600444Z",
     "shell.execute_reply.started": "2023-03-28T00:52:57.586445Z"
    }
   },
   "outputs": [
    {
     "name": "stdout",
     "output_type": "stream",
     "text": [
      "Accuracy score if we send offers to everyone 0.426\n"
     ]
    }
   ],
   "source": [
    "print(\"Accuracy score if we send offers to everyone %.3f\" % accuracy_score(y, [True] * y.shape[0]))"
   ]
  },
  {
   "cell_type": "code",
   "execution_count": 64,
   "metadata": {
    "execution": {
     "iopub.execute_input": "2023-03-28T00:53:46.464945Z",
     "iopub.status.busy": "2023-03-28T00:53:46.464445Z",
     "iopub.status.idle": "2023-03-28T00:53:46.471453Z",
     "shell.execute_reply": "2023-03-28T00:53:46.470943Z",
     "shell.execute_reply.started": "2023-03-28T00:53:46.464945Z"
    }
   },
   "outputs": [
    {
     "name": "stdout",
     "output_type": "stream",
     "text": [
      "Traing accuracy: 0.773, testing accuracy: 0.767\n"
     ]
    }
   ],
   "source": [
    "print(\"Traing accuracy: %.3f, testing accuracy: %.3f\" % (training_accuracy, testing_accuracy))"
   ]
  },
  {
   "cell_type": "markdown",
   "metadata": {},
   "source": [
    "### Conclusion\n",
    "\n",
    "Assuming we don't have the predictive model, we'll send offers to all customers. Of all observations, 42.6% were labeled “True”. The accuracy score in this case will be 0.426. Our implemented model will increase the accuracy score from 0.426 to 0.767, which is an absolute improvement of 34.1%.\n",
    "\n",
    "So we can conclude that our model had a good effectiveness and improvement in the results of promotions, with this model in production we can increase the company's profits by 34.1%."
   ]
  }
 ],
 "metadata": {
  "kernelspec": {
   "display_name": "Python 3 (ipykernel)",
   "language": "python",
   "name": "python3"
  },
  "language_info": {
   "codemirror_mode": {
    "name": "ipython",
    "version": 3
   },
   "file_extension": ".py",
   "mimetype": "text/x-python",
   "name": "python",
   "nbconvert_exporter": "python",
   "pygments_lexer": "ipython3",
   "version": "3.9.7"
  }
 },
 "nbformat": 4,
 "nbformat_minor": 4
}
